{
 "cells": [
  {
   "cell_type": "code",
   "execution_count": 1,
   "metadata": {},
   "outputs": [],
   "source": [
    "import GetOldTweets3 as got\n",
    "# Remember, if you do not have GOT3 installe, you first need to do it using !pip command"
   ]
  },
  {
   "cell_type": "markdown",
   "metadata": {},
   "source": [
    "The cell below contains simplified version of the script you can use to verify if the output is correct.\n",
    "In this cell you have to remember to manually change the following:\n",
    "- setMaxTweets(9999) --> limitation on number of tweets to be scrapped. If you get an error, use smaller number.\n",
    "- setSince('2015-04-16') --> use the yyyy-mm-dd format\n",
    "- setUntil('2015-04-17') --> unless the city is small and with few tweets, trying to scrape more than one day will result in an error (421: too many requests)\n",
    "- setNear('52.52, 13.40') --> use decimal notation; to double-check you can switch latitude with longitute to verify the output\n",
    "- setWithin(\"50km\") --> you can increase or decrease the radius, with setNear coordinates as a centre of the circle"
   ]
  },
  {
   "cell_type": "code",
   "execution_count": 62,
   "metadata": {},
   "outputs": [
    {
     "name": "stdout",
     "output_type": "stream",
     "text": [
      "An error occured during an HTTP request: HTTP Error 429: Too Many Requests\n",
      "Try to open in browser: https://twitter.com/search?q=%20near%3A%22Berlin%2C%20Germany%22%20within%3A50km%20since%3A2020-04-20%20until%3A2020-04-21&src=typd\n"
     ]
    },
    {
     "ename": "SystemExit",
     "evalue": "",
     "output_type": "error",
     "traceback": [
      "An exception has occurred, use %tb to see the full traceback.\n",
      "\u001b[1;31mSystemExit\u001b[0m\n"
     ]
    }
   ],
   "source": [
    "# It creates, and later overwrites 'output.csv' file; Remember to force encoding to utf-8 to correctly represent diacritical marks\n",
    "with open('output.csv', 'w', encoding=\"utf-8\") as f:\n",
    "    #setMaxTweets(9999).\n",
    "    #This is the basic GetOldTweets3 script with the variables in ()\n",
    "    tweetCriteria = got.manager.TweetCriteria().setSince('2020-04-20').setUntil('2020-04-21').setNear('Berlin, Germany').setWithin(\"50km\");\n",
    "    tweets = got.manager.TweetManager.getTweets(tweetCriteria);\n",
    "    \n",
    "    #Verification if the tweet.text is long enough (10 characters by default - you may change this)\n",
    "    for tweet in tweets:\n",
    "        if len(tweet.text) > 10:\n",
    "            #Format of the data saved in the .csv file\n",
    "            f.write(f\"{tweet.id},{tweet.date},{tweet.username},{tweet.text.replace(',', '')}'\\n'\")"
   ]
  },
  {
   "cell_type": "markdown",
   "metadata": {},
   "source": [
    "The script in the next cells allows you to see the number of tweets scrapped to the file and the tweets without opening the file."
   ]
  },
  {
   "cell_type": "code",
   "execution_count": 58,
   "metadata": {},
   "outputs": [
    {
     "name": "stdout",
     "output_type": "stream",
     "text": [
      "145\n"
     ]
    }
   ],
   "source": [
    "# We ignore errors (non-unicode signs, like some emojis)\n",
    "with open('output.csv', errors='ignore', encoding=\"utf-8\") as f:\n",
    "    row_count = sum(1 for row in f)\n",
    "    print(row_count)"
   ]
  },
  {
   "cell_type": "markdown",
   "metadata": {},
   "source": [
    "And now the GOT3 function I created:\n",
    "- by passing the values in the function () you can run the script for a given date and location,\n",
    "- it will create separate .csv file,\n",
    "- if you get an error, change the 'setMaxTweets(9999)' value in the function script\n",
    "- you can also change the default radius of 50km, if the city is bigger or smaller\n",
    "- the other variable that may need to be changed is the 'len(tweet.text)'"
   ]
  },
  {
   "cell_type": "code",
   "execution_count": 2,
   "metadata": {},
   "outputs": [],
   "source": [
    "def GOTcity(start_date, stop_date, location, file_name):\n",
    "    \"\"\"Dates in 'yyyy-mm-dd' format; Location in decimals '52.52, 13.40', filename in 'Berlin20200410.csv' format\"\"\"\n",
    "    with open(file_name, 'w', encoding=\"utf-8\") as f:\n",
    "        tweetCriteria = got.manager.TweetCriteria().setMaxTweets(9999).setSince(start_date).setUntil(stop_date).setNear(location).setWithin(\"35km\");\n",
    "        tweets = got.manager.TweetManager.getTweets(tweetCriteria);\n",
    "        for tweet in tweets:\n",
    "            if len(tweet.text) > 10:\n",
    "                f.write(f\"{tweet.id},{tweet.date},{tweet.username},{tweet.text.replace(',', '')}'\\n'\")"
   ]
  },
  {
   "cell_type": "code",
   "execution_count": 60,
   "metadata": {},
   "outputs": [],
   "source": [
    "# Lesbos example; note that when I will run it on my computer, I will change the radius to 5 km, because otherwise I would scrap the tweets from the Turkish coast\n",
    "GOTcity('2020-04-20', '2020-04-21', '37.07, 37.38', 'Gaziantep20200420.csv')"
   ]
  },
  {
   "cell_type": "code",
   "execution_count": null,
   "metadata": {},
   "outputs": [],
   "source": []
  }
 ],
 "metadata": {
  "kernelspec": {
   "display_name": "Python 3",
   "language": "python",
   "name": "python3"
  },
  "language_info": {
   "codemirror_mode": {
    "name": "ipython",
    "version": 3
   },
   "file_extension": ".py",
   "mimetype": "text/x-python",
   "name": "python",
   "nbconvert_exporter": "python",
   "pygments_lexer": "ipython3",
   "version": "3.7.3"
  }
 },
 "nbformat": 4,
 "nbformat_minor": 2
}
