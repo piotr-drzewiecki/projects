{
 "cells": [
  {
   "cell_type": "code",
   "execution_count": 6,
   "metadata": {},
   "outputs": [],
   "source": [
    "import json\n",
    "import pandas as pd"
   ]
  },
  {
   "cell_type": "code",
   "execution_count": 7,
   "metadata": {},
   "outputs": [],
   "source": [
    "data = [json.loads(line) for line in open('29.json').readlines()]"
   ]
  },
  {
   "cell_type": "code",
   "execution_count": 8,
   "metadata": {},
   "outputs": [
    {
     "name": "stdout",
     "output_type": "stream",
     "text": [
      "Estados Unidos\n"
     ]
    }
   ],
   "source": [
    "type(data[0]['lang'])\n",
    "print(data[4]['user']['location'])\n",
    "# sample_dict = {'tweet_id': ['001','002','003'], 'year': [2020, 2020, 2020], 'tweet_text': [\"War doesn't show who's right, just who's left.\", \"Hello\",\"Merhaba benim adım Faraz\"], 'location': ['Berlin','Berlin','Berlin']}\n",
    "# sample_df = pd.DataFrame(data=smaple_dict)#.set_index('tweet_id', drop = False)\n",
    "# sample_df#.drop(columns='tweet_id')"
   ]
  },
  {
   "cell_type": "code",
   "execution_count": 9,
   "metadata": {},
   "outputs": [],
   "source": [
    "#create empty dictionary and tweet counter\n",
    "dict_01 = {'date': [], 'tweet_text': [], 'location': [], 'language': []}\n",
    "\n",
    "#for each tweet in the Twitter data\n",
    "for tweet in data:\n",
    "    \n",
    "    #check key exists (otherwise throws error if key inexistent in some tweet) and append to dictionary.\n",
    "    \n",
    "    if 'created_at' in tweet.keys():\n",
    "        dict_01['date'].append(tweet['created_at'])\n",
    "    else:\n",
    "        dict_01['date'].append('Apr 2015')\n",
    "        \n",
    "    if 'text' in tweet.keys():\n",
    "        dict_01['tweet_text'].append(tweet['text'])\n",
    "    else:\n",
    "        dict_01['tweet_text'].append('Null')\n",
    "        \n",
    "    if 'user' in tweet.keys():\n",
    "        if 'location' in tweet['user'].keys():\n",
    "            dict_01['location'].append(tweet['user']['location'])\n",
    "        else:\n",
    "            dict_01['location'].append('Null')\n",
    "    else:\n",
    "        dict_01['location'].append('Null')\n",
    "        \n",
    "    if 'lang' in tweet.keys():\n",
    "        dict_01['language'].append(tweet['lang'])\n",
    "    else:\n",
    "        dict_01['language'].append('Null')"
   ]
  },
  {
   "cell_type": "code",
   "execution_count": 10,
   "metadata": {},
   "outputs": [],
   "source": [
    "df_01 = pd.DataFrame(dict_01)"
   ]
  },
  {
   "cell_type": "code",
   "execution_count": 11,
   "metadata": {},
   "outputs": [
    {
     "data": {
      "text/html": [
       "<div>\n",
       "<style scoped>\n",
       "    .dataframe tbody tr th:only-of-type {\n",
       "        vertical-align: middle;\n",
       "    }\n",
       "\n",
       "    .dataframe tbody tr th {\n",
       "        vertical-align: top;\n",
       "    }\n",
       "\n",
       "    .dataframe thead th {\n",
       "        text-align: right;\n",
       "    }\n",
       "</style>\n",
       "<table border=\"1\" class=\"dataframe\">\n",
       "  <thead>\n",
       "    <tr style=\"text-align: right;\">\n",
       "      <th></th>\n",
       "      <th>date</th>\n",
       "      <th>tweet_text</th>\n",
       "      <th>location</th>\n",
       "      <th>language</th>\n",
       "    </tr>\n",
       "  </thead>\n",
       "  <tbody>\n",
       "    <tr>\n",
       "      <th>0</th>\n",
       "      <td>Mon Apr 01 06:29:00 +0000 2019</td>\n",
       "      <td>RT @kantei: 【お知らせ】新元号は「令和」に決まりました。</td>\n",
       "      <td>None</td>\n",
       "      <td>ja</td>\n",
       "    </tr>\n",
       "    <tr>\n",
       "      <th>1</th>\n",
       "      <td>Mon Apr 01 06:29:00 +0000 2019</td>\n",
       "      <td>RT @PejuangKuis: [ GIVEAWAY KUYY ]\\n\\nMau Sald...</td>\n",
       "      <td>Blora, Indonesia</td>\n",
       "      <td>in</td>\n",
       "    </tr>\n",
       "    <tr>\n",
       "      <th>2</th>\n",
       "      <td>Mon Apr 01 06:29:00 +0000 2019</td>\n",
       "      <td>RT @sho__0203: 平成最後なんで大型企画やります！\\n\\nPS4を238台用意し...</td>\n",
       "      <td>静岡 清水区</td>\n",
       "      <td>ja</td>\n",
       "    </tr>\n",
       "    <tr>\n",
       "      <th>3</th>\n",
       "      <td>Mon Apr 01 06:29:00 +0000 2019</td>\n",
       "      <td>RT @mong_arashi: 봄버님한테 멘션드리면서 깨달은 건데 아이바 있는 힘껏...</td>\n",
       "      <td>쟈니스 옥상</td>\n",
       "      <td>ko</td>\n",
       "    </tr>\n",
       "    <tr>\n",
       "      <th>4</th>\n",
       "      <td>Mon Apr 01 06:29:00 +0000 2019</td>\n",
       "      <td>RT @iniciados123: Cortito placentero. https://...</td>\n",
       "      <td>Estados Unidos</td>\n",
       "      <td>es</td>\n",
       "    </tr>\n",
       "  </tbody>\n",
       "</table>\n",
       "</div>"
      ],
      "text/plain": [
       "                             date  \\\n",
       "0  Mon Apr 01 06:29:00 +0000 2019   \n",
       "1  Mon Apr 01 06:29:00 +0000 2019   \n",
       "2  Mon Apr 01 06:29:00 +0000 2019   \n",
       "3  Mon Apr 01 06:29:00 +0000 2019   \n",
       "4  Mon Apr 01 06:29:00 +0000 2019   \n",
       "\n",
       "                                          tweet_text          location  \\\n",
       "0                 RT @kantei: 【お知らせ】新元号は「令和」に決まりました。              None   \n",
       "1  RT @PejuangKuis: [ GIVEAWAY KUYY ]\\n\\nMau Sald...  Blora, Indonesia   \n",
       "2  RT @sho__0203: 平成最後なんで大型企画やります！\\n\\nPS4を238台用意し...            静岡 清水区   \n",
       "3  RT @mong_arashi: 봄버님한테 멘션드리면서 깨달은 건데 아이바 있는 힘껏...            쟈니스 옥상   \n",
       "4  RT @iniciados123: Cortito placentero. https://...    Estados Unidos   \n",
       "\n",
       "  language  \n",
       "0       ja  \n",
       "1       in  \n",
       "2       ja  \n",
       "3       ko  \n",
       "4       es  "
      ]
     },
     "execution_count": 11,
     "metadata": {},
     "output_type": "execute_result"
    }
   ],
   "source": [
    "df_01.head()"
   ]
  },
  {
   "cell_type": "code",
   "execution_count": 77,
   "metadata": {},
   "outputs": [
    {
     "data": {
      "text/html": [
       "<div>\n",
       "<style scoped>\n",
       "    .dataframe tbody tr th:only-of-type {\n",
       "        vertical-align: middle;\n",
       "    }\n",
       "\n",
       "    .dataframe tbody tr th {\n",
       "        vertical-align: top;\n",
       "    }\n",
       "\n",
       "    .dataframe thead th {\n",
       "        text-align: right;\n",
       "    }\n",
       "</style>\n",
       "<table border=\"1\" class=\"dataframe\">\n",
       "  <thead>\n",
       "    <tr style=\"text-align: right;\">\n",
       "      <th></th>\n",
       "      <th>date</th>\n",
       "      <th>tweet_text</th>\n",
       "      <th>location</th>\n",
       "      <th>language</th>\n",
       "    </tr>\n",
       "  </thead>\n",
       "  <tbody>\n",
       "  </tbody>\n",
       "</table>\n",
       "</div>"
      ],
      "text/plain": [
       "Empty DataFrame\n",
       "Columns: [date, tweet_text, location, language]\n",
       "Index: []"
      ]
     },
     "execution_count": 77,
     "metadata": {},
     "output_type": "execute_result"
    }
   ],
   "source": [
    "df_01[df_01.location=='DE']"
   ]
  },
  {
   "cell_type": "code",
   "execution_count": 51,
   "metadata": {},
   "outputs": [],
   "source": [
    "#create empty dictionary and tweet counter\n",
    "dict_02 = { 'geolocalization': []}\n",
    "#add user language\n",
    "\n",
    "#for each tweet in the Twitter data\n",
    "for tweet in data:   \n",
    "    #check key exists (otherwise throws error if key inexistent in some tweet) and append to dictionary.\n",
    "    if 'geo' in tweet.keys():\n",
    "        if tweet['coordinates'] != None:\n",
    "            dict_02['geolocalization'].append(tweet['coordinates'])\n",
    "\n",
    "    \n",
    "#     if 'created_at' in tweet.keys():\n",
    "#         dict_02['date'].append(tweet['created_at'])\n",
    "#     else:\n",
    "#         dict_02['date'].append('Apr 2015')\n",
    "    \n",
    "#     if 'text' in tweet.keys():\n",
    "#         dict_02['tweet_text'].append(tweet['text'])\n",
    "#     else:\n",
    "#         dict_02['tweet_text'].append('Null')\n",
    "             \n",
    "#     if 'user' in tweet.keys():\n",
    "#         if 'location' in tweet['user'].keys():\n",
    "#             dict_01['location'].append(tweet['user']['location'])\n",
    "#         else:\n",
    "#             dict_01['location'].append('Null')\n",
    "#     else:\n",
    "#         dict_01['location'].append('Null')\n",
    "            \n",
    "#     if 'lang' in tweet.keys():\n",
    "#         dict_01['language'].append(tweet['lang'])\n",
    "#     else:\n",
    "#         dict_01['language'].append('Null')"
   ]
  },
  {
   "cell_type": "code",
   "execution_count": 52,
   "metadata": {},
   "outputs": [],
   "source": [
    "df_02 = pd.DataFrame(dict_02)"
   ]
  },
  {
   "cell_type": "code",
   "execution_count": 53,
   "metadata": {},
   "outputs": [
    {
     "data": {
      "text/html": [
       "<div>\n",
       "<style scoped>\n",
       "    .dataframe tbody tr th:only-of-type {\n",
       "        vertical-align: middle;\n",
       "    }\n",
       "\n",
       "    .dataframe tbody tr th {\n",
       "        vertical-align: top;\n",
       "    }\n",
       "\n",
       "    .dataframe thead th {\n",
       "        text-align: right;\n",
       "    }\n",
       "</style>\n",
       "<table border=\"1\" class=\"dataframe\">\n",
       "  <thead>\n",
       "    <tr style=\"text-align: right;\">\n",
       "      <th></th>\n",
       "      <th>geolocalization</th>\n",
       "    </tr>\n",
       "  </thead>\n",
       "  <tbody>\n",
       "  </tbody>\n",
       "</table>\n",
       "</div>"
      ],
      "text/plain": [
       "Empty DataFrame\n",
       "Columns: [geolocalization]\n",
       "Index: []"
      ]
     },
     "execution_count": 53,
     "metadata": {},
     "output_type": "execute_result"
    }
   ],
   "source": [
    "df_02"
   ]
  },
  {
   "cell_type": "code",
   "execution_count": null,
   "metadata": {},
   "outputs": [],
   "source": []
  }
 ],
 "metadata": {
  "kernelspec": {
   "display_name": "Python 3",
   "language": "python",
   "name": "python3"
  },
  "language_info": {
   "codemirror_mode": {
    "name": "ipython",
    "version": 3
   },
   "file_extension": ".py",
   "mimetype": "text/x-python",
   "name": "python",
   "nbconvert_exporter": "python",
   "pygments_lexer": "ipython3",
   "version": "3.7.3"
  }
 },
 "nbformat": 4,
 "nbformat_minor": 2
}
